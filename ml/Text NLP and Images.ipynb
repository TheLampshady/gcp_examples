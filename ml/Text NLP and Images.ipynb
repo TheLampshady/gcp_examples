{
 "cells": [
  {
   "cell_type": "code",
   "execution_count": null,
   "metadata": {},
   "outputs": [],
   "source": [
    "%env GCP_API_KEY="
   ]
  },
  {
   "cell_type": "code",
   "execution_count": null,
   "metadata": {},
   "outputs": [],
   "source": [
    "import os\n",
    "import json\n",
    "\n",
    "from ml.gcp_clients.base_client import GCPClient\n",
    "from ml.gcp_clients.image_client import ImageClient\n",
    "\n",
    "api_key = os.environ.get('GCP_API_KEY')\n",
    "client = GCPClient(api_key)"
   ]
  },
  {
   "cell_type": "code",
   "execution_count": null,
   "metadata": {},
   "outputs": [],
   "source": [
    "from IPython.display import Image\n",
    "\n",
    "image = 'https://blogs.transparent.com/italian/files/2016/05/I-cani-vanno-tenuti-1.jpg'\n",
    "Image(url=image)\n"
   ]
  },
  {
   "cell_type": "code",
   "execution_count": null,
   "metadata": {},
   "outputs": [],
   "source": [
    "# Image API\n",
    "text = client.text_from_image(image)\n",
    "print(text)"
   ]
  },
  {
   "cell_type": "code",
   "execution_count": null,
   "metadata": {},
   "outputs": [],
   "source": [
    "# Translate API\n",
    "text = client.translation_from_text(text)\n",
    "print(text)"
   ]
  },
  {
   "cell_type": "code",
   "execution_count": null,
   "metadata": {},
   "outputs": [],
   "source": [
    "# NLP API\n",
    "config = client.nlp_from_text(text)\n",
    "print(config)"
   ]
  },
  {
   "cell_type": "code",
   "execution_count": null,
   "metadata": {},
   "outputs": [],
   "source": [
    "# Classify\n",
    "classy_text = u\"A Smoky Lobster Salad With a Tapa Twist. This spin on the Spanish pulpo a la gallega skips the \" \\\n",
    "              u\"octopus, but keeps the sea salt, olive oil, pimentón and boiled potatoes.\"\n",
    "\n",
    "classification = client.get_classification(classy_text)\n",
    "print(client.format_classification(classification))\n"
   ]
  },
  {
   "cell_type": "code",
   "execution_count": null,
   "metadata": {},
   "outputs": [],
   "source": [
    "# Image Class\n",
    "image_client = ImageClient(api_key)\n",
    "image_url = 'https://media.gettyimages.com/photos/large-crowd-of-people-cheering-and-raising-their-fists-picture-iddv1992030'\n",
    "image_client.process_image(image_url, ['TEXT_DETECTION', 'LABEL_DETECTION', 'WEB_DETECTION', 'FACE_DETECTION', 'LANDMARK_DETECTION'], 10)\n",
    "image_client.display_faces()"
   ]
  },
  {
   "cell_type": "code",
   "execution_count": null,
   "metadata": {},
   "outputs": [],
   "source": []
  }
 ],
 "metadata": {
  "kernelspec": {
   "display_name": "Python 3",
   "language": "python",
   "name": "python3"
  },
  "language_info": {
   "codemirror_mode": {
    "name": "ipython",
    "version": 2
   },
   "file_extension": ".py",
   "mimetype": "text/x-python",
   "name": "python",
   "nbconvert_exporter": "python",
   "pygments_lexer": "ipython2",
   "version": "2.7.15"
  }
 },
 "nbformat": 4,
 "nbformat_minor": 2
}
