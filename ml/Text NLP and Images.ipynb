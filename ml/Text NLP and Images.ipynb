{
 "cells": [
  {
   "cell_type": "markdown",
   "metadata": {},
   "source": [
    "# GCP AI and ML Services\n",
    "This notebook contains examples of a few services offered by GCP. \n",
    "\n",
    "Each example here uses RESTful endpoints which do not rely on Python libraries. Feel free to copy the endpoints to call in an langauge but get your own API key.\n",
    "\n",
    "Docs:\n",
    "https://cloud.google.com/products/machine-learning/"
   ]
  },
  {
   "cell_type": "code",
   "execution_count": null,
   "metadata": {},
   "outputs": [],
   "source": [
    "%env GCP_API_KEY="
   ]
  },
  {
   "cell_type": "code",
   "execution_count": null,
   "metadata": {},
   "outputs": [],
   "source": [
    "import os\n",
    "import json\n",
    "\n",
    "from gcp_clients.base_client import GCPClient\n",
    "from gcp_clients.image_client import ImageClient\n",
    "\n",
    "api_key = os.environ.get('GCP_API_KEY')\n",
    "client = GCPClient(api_key)"
   ]
  },
  {
   "cell_type": "code",
   "execution_count": null,
   "metadata": {},
   "outputs": [],
   "source": [
    "# Jupyter use\n",
    "from IPython.display import Image"
   ]
  },
  {
   "cell_type": "markdown",
   "metadata": {},
   "source": [
    "## Vision API\n",
    "In this example we will pass an image link and recieve the text displayed in the image. This will utilize the text detection.\n",
    "\n",
    "Other featues:\n",
    "* TEXT_DETECTION'\n",
    "* LABEL_DETECTION\n",
    "* WEB_DETECTION\n",
    "* FACE_DETECTION\n",
    "* LANDMARK_DETECTION\n",
    "\n",
    "Docs:\n",
    "https://cloud.google.com/vision/docs/reference/rest/\n",
    "\n",
    "Endpoint:\n",
    "https://vision.googleapis.com/v1/images:annotate"
   ]
  },
  {
   "cell_type": "code",
   "execution_count": null,
   "metadata": {},
   "outputs": [],
   "source": [
    "image = 'https://blogs.transparent.com/italian/files/2016/05/I-cani-vanno-tenuti-1.jpg'\n",
    "Image(url=image)"
   ]
  },
  {
   "cell_type": "code",
   "execution_count": null,
   "metadata": {},
   "outputs": [],
   "source": [
    "text = client.text_from_image(image)\n",
    "print(text)"
   ]
  },
  {
   "cell_type": "markdown",
   "metadata": {},
   "source": [
    "## Translation API\n",
    "This example will take the text extracted from the Image and translate it to english\n",
    "\n",
    "Docs:\n",
    "https://cloud.google.com/translate/docs/translating-text\n",
    "\n",
    "Endpoint:\n",
    "https://translation.googleapis.com/language/translate/v2\n"
   ]
  },
  {
   "cell_type": "code",
   "execution_count": null,
   "metadata": {},
   "outputs": [],
   "source": [
    "text = client.translation_from_text(text)\n",
    "print(text)"
   ]
  },
  {
   "cell_type": "markdown",
   "metadata": {},
   "source": [
    "## Language API (NLP)\n",
    "This example will take the translated text, extracted from the image and pull appart the sentence. Each world will have linguistic information. Useful for normalizing data.\n",
    "\n",
    "Docs:\n",
    "https://cloud.google.com/natural-language/docs/how-to\n",
    "\n",
    "Features:\n",
    "* Syntax\n",
    "* Classification\n",
    "* Entities\n",
    "* Sentiment\n",
    "\n",
    "Endpoints:\n",
    " * https://language.googleapis.com/v1/documents:<feature>"
   ]
  },
  {
   "cell_type": "code",
   "execution_count": null,
   "metadata": {},
   "outputs": [],
   "source": [
    "entries = client.nlp_from_text(text, debug=True)"
   ]
  },
  {
   "cell_type": "markdown",
   "metadata": {},
   "source": [
    "## Language API (Classification)\n",
    "This example will take text and classify it based upon categories Google defined in their model.\n",
    "\n",
    "If the pre-defined model do not meet requirements, a custom model can be made with their AutoML NLP (Sooo many buzz words).\n",
    "\n",
    "Docs:\n",
    "https://cloud.google.com/natural-language/docs/classifying-text\n",
    "https://cloud.google.com/natural-language/automl/docs/\n",
    "\n",
    "Features and Endpoint - Above\n"
   ]
  },
  {
   "cell_type": "code",
   "execution_count": null,
   "metadata": {},
   "outputs": [],
   "source": [
    "classy_text = u\"A Smoky Lobster Salad With a Tapa Twist. This spin on the Spanish pulpo a la gallega skips the \" \\\n",
    "              u\"octopus, but keeps the sea salt, olive oil, pimentón and boiled potatoes.\"\n",
    "\n",
    "classification = client.get_classification(classy_text)\n",
    "print(client.format_classification(classification))\n",
    "print(\"\")\n"
   ]
  },
  {
   "cell_type": "markdown",
   "metadata": {},
   "source": [
    "## Image API (Part 2)\n",
    "This example will use all features provided by the API to get all the data."
   ]
  },
  {
   "cell_type": "code",
   "execution_count": null,
   "metadata": {},
   "outputs": [],
   "source": [
    "image_url = 'https://media.gettyimages.com/photos/large-crowd-of-people-cheering-and-raising-their-fists-picture-iddv1992030'\n",
    "Image(url=image_url)"
   ]
  },
  {
   "cell_type": "code",
   "execution_count": null,
   "metadata": {},
   "outputs": [],
   "source": [
    "image_client = ImageClient(api_key)\n",
    "image_features = [\n",
    "    'TEXT_DETECTION', \n",
    "    'LABEL_DETECTION', \n",
    "    'WEB_DETECTION', \n",
    "    'FACE_DETECTION', \n",
    "    'LANDMARK_DETECTION'\n",
    "]\n",
    "image_client.process_image(image_url, image_features, 50)\n",
    "image_client.display_faces(debug=True)"
   ]
  },
  {
   "cell_type": "code",
   "execution_count": null,
   "metadata": {},
   "outputs": [],
   "source": [
    "\n"
   ]
  }
 ],
 "metadata": {
  "kernelspec": {
   "display_name": "Python 3",
   "language": "python",
   "name": "python3"
  },
  "language_info": {
   "codemirror_mode": {
    "name": "ipython",
    "version": 2
   },
   "file_extension": ".py",
   "mimetype": "text/x-python",
   "name": "python",
   "nbconvert_exporter": "python",
   "pygments_lexer": "ipython2",
   "version": "2.7.15"
  }
 },
 "nbformat": 4,
 "nbformat_minor": 2
}
